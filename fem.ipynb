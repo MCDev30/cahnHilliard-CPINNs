{
 "cells": [
  {
   "cell_type": "code",
   "execution_count": null,
   "metadata": {},
   "outputs": [],
   "source": [
    "from matplotlib.colors import LinearSegmentedColormap\n",
    "import numpy as np\n",
    "from tqdm import tqdm\n",
    "import matplotlib.pyplot as plt\n",
    "from matplotlib.animation import FuncAnimation\n",
    "from scipy.sparse import csr_matrix, lil_matrix\n",
    "from IPython.display import HTML\n",
    "plt.rcParams['animation.html'] = 'jshtml'\n",
    "# plt.rcParams['animation.embed_limit'] = 1024 "
   ]
  },
  {
   "cell_type": "code",
   "execution_count": 2,
   "metadata": {},
   "outputs": [],
   "source": [
    "def simulate_cahn_hilliard():\n",
    "    Nx, Ny = 128, 128\n",
    "    dx = dy = 1\n",
    "    dt = 0.01\n",
    "    gamma = np.sqrt(3)\n",
    "    total_time = 50000\n",
    "    x = np.linspace(-0.5, 0.5, Nx)\n",
    "    y = np.linspace(0, 1, Ny)\n",
    "    X, Y = np.meshgrid(x, y)\n",
    "    def build_fem_matrices():\n",
    "        M = lil_matrix((Nx*Ny, Nx*Ny))\n",
    "        K = lil_matrix((Nx*Ny, Nx*Ny))\n",
    "        for i in range(Nx):\n",
    "            for j in range(Ny):\n",
    "                idx = i + j*Nx\n",
    "                M[idx, idx] = dx * dy\n",
    "                K[idx, idx] = 4 / (dx * dy)\n",
    "                if i > 0:\n",
    "                    K[idx, idx-1] = -1 / (dx * dy)\n",
    "                if i < Nx-1:\n",
    "                    K[idx, idx+1] = -1 / (dx * dy)\n",
    "                if j > 0:\n",
    "                    K[idx, idx-Nx] = -1 / (dx * dy)\n",
    "                if j < Ny-1:\n",
    "                    K[idx, idx+Nx] = -1 / (dx * dy)\n",
    "        return csr_matrix(M), csr_matrix(K)\n",
    "    M, K = build_fem_matrices()\n",
    "    M_inv_diag = 1 / M.diagonal()\n",
    "    M_inv = csr_matrix(np.diag(M_inv_diag))\n",
    "    np.random.seed(42)\n",
    "    u = np.clip(np.random.uniform(-1, 1, (Nx, Ny)), -1, 1)\n",
    "\n",
    "    def laplacian_fem(f):\n",
    "        f_vec = f.flatten()\n",
    "        lap = -M_inv.dot(K.dot(f_vec)) \n",
    "        return lap.reshape((Nx, Ny))\n",
    "\n",
    "    def chemical_potential(u):\n",
    "        return u**3 - u - gamma**2 * laplacian_fem(u)\n",
    "\n",
    "    def mobility(u):\n",
    "        return 1 - u**2\n",
    "\n",
    "    frames = []\n",
    "    times = []\n",
    "    for t in tqdm(range(total_time)):\n",
    "        mu = chemical_potential(u)\n",
    "        M_u = np.clip(mobility(u), 0, 1)\n",
    "        u += dt * laplacian_fem(M_u * mu)\n",
    "        if t % 30 == 0:\n",
    "            frames.append(u.copy())\n",
    "            times.append(t * dt)\n",
    "    return frames, times"
   ]
  },
  {
   "cell_type": "code",
   "execution_count": 3,
   "metadata": {},
   "outputs": [
    {
     "name": "stderr",
     "output_type": "stream",
     "text": [
      "100%|██████████| 50000/50000 [02:09<00:00, 385.64it/s]\n"
     ]
    }
   ],
   "source": [
    "frames, times = simulate_cahn_hilliard()"
   ]
  },
  {
   "cell_type": "code",
   "execution_count": null,
   "metadata": {},
   "outputs": [],
   "source": [
    "colors = [(0, 0, 0), (1, 0, 0), (1, 1, 0)]\n",
    "cmap = LinearSegmentedColormap.from_list(\"custom_colormap\", colors, N=256)\n",
    "\n",
    "fig, ax = plt.subplots()\n",
    "im = ax.imshow(frames[0], cmap=cmap, extent=(-0.5, 0.5, 0, 1), vmin=-1, vmax=1)\n",
    "plt.colorbar(im)\n",
    "\n",
    "time_text = ax.text(0.02, 0.95, '', transform=ax.transAxes, color=\"white\")\n",
    "\n",
    "\n",
    "def animate(i):\n",
    "    im.set_array(frames[i])\n",
    "    time_text.set_text(f'Temps: {times[i]/100:.3f} s')\n",
    "    return [im, time_text]\n",
    "\n",
    "anim = FuncAnimation(fig, animate, frames=len(frames), interval=50, blit=True)\n",
    "plt.close()\n",
    "HTML(anim.to_jshtml())"
   ]
  },
  {
   "cell_type": "code",
   "execution_count": null,
   "metadata": {},
   "outputs": [],
   "source": [
    "np.save(\"fem_canh_hilliard.npy\", frames)"
   ]
  }
 ],
 "metadata": {
  "kernelspec": {
   "display_name": "base",
   "language": "python",
   "name": "python3"
  },
  "language_info": {
   "codemirror_mode": {
    "name": "ipython",
    "version": 3
   },
   "file_extension": ".py",
   "mimetype": "text/x-python",
   "name": "python",
   "nbconvert_exporter": "python",
   "pygments_lexer": "ipython3",
   "version": "3.12.2"
  }
 },
 "nbformat": 4,
 "nbformat_minor": 2
}
