{
 "cells": [
  {
   "cell_type": "code",
   "execution_count": 3,
   "metadata": {},
   "outputs": [],
   "source": [
    "import torch\n",
    "import numpy as np\n",
    "import torch.nn as nn\n",
    "from torch.utils.data import DataLoader, TensorDataset\n",
    "from matplotlib.animation import FuncAnimation\n",
    "import matplotlib.pyplot as plt\n",
    "from matplotlib.colors import LinearSegmentedColormap\n",
    "from IPython.display import HTML\n",
    "from tqdm import tqdm\n",
    "from scipy.ndimage import convolve\n",
    "import warnings\n",
    "warnings.filterwarnings(\"ignore\")\n",
    "plt.rcParams['animation.html'] = 'jshtml'\n",
    "plt.rcParams['animation.embed_limit'] = 1024"
   ]
  },
  {
   "cell_type": "code",
   "execution_count": 4,
   "metadata": {},
   "outputs": [],
   "source": [
    "colors = [(0, 0, 0), (1, 0, 0), (1, 1, 0)]\n",
    "cmap = LinearSegmentedColormap.from_list(\"custom_colormap\", colors, N=256)"
   ]
  },
  {
   "cell_type": "code",
   "execution_count": 5,
   "metadata": {},
   "outputs": [],
   "source": [
    "Nx, Ny = 128, 128\n",
    "dx = dy = 1\n",
    "dt = 0.01\n",
    "gamma = np.sqrt(3)\n",
    "total_steps = 50000"
   ]
  },
  {
   "cell_type": "code",
   "execution_count": 6,
   "metadata": {},
   "outputs": [
    {
     "name": "stdout",
     "output_type": "stream",
     "text": [
      "Training starting:\n"
     ]
    },
    {
     "name": "stderr",
     "output_type": "stream",
     "text": [
      "100%|██████████| 50000/50000 [01:37<00:00, 511.36it/s]\n"
     ]
    },
    {
     "name": "stdout",
     "output_type": "stream",
     "text": [
      "Model refinement 25 Batch-size starting\n"
     ]
    },
    {
     "name": "stderr",
     "output_type": "stream",
     "text": [
      "100%|██████████| 25/25 [37:24<00:00, 89.79s/it] \n"
     ]
    }
   ],
   "source": [
    "def initial_condition(Nx, Ny):\n",
    "    np.random.seed(42)\n",
    "    return np.clip(np.random.uniform(-1, 1, (Nx, Ny)), -1, 1)\n",
    "\n",
    "\n",
    "def train_data(gamma, dx, dy, dt, T, u0):\n",
    "    state = u0\n",
    "    kernel = np.array([[0, 1, 0],[1, -4, 1],[0, 1, 0]]) / (dx * dy)\n",
    "    train, time_points = [], []\n",
    "    print(\"Training starting:\")\n",
    "    for step in tqdm(range(T)):\n",
    "        mu = state**3 - state - gamma**2 * convolve(state, kernel, mode='wrap')\n",
    "        mobility = np.clip(1 - state**2, 0, 1)\n",
    "        state += dt * convolve(mobility * mu, kernel, mode='wrap')\n",
    "        if step % 30 == 0:\n",
    "            train.append(state.copy())\n",
    "            time_points.append(step * dt)\n",
    "    print(\"Model refinement 25 Batch-size starting\")\n",
    "    return np.array(train), np.array(time_points)\n",
    "\n",
    "\n",
    "u0 = initial_condition(Nx,Ny)\n",
    "frames, times = train_data(gamma, dx, dy, dt, total_steps, u0)\n",
    "\n",
    "\n",
    "frames_tensor = torch.tensor(frames, dtype=torch.float32)\n",
    "times_tensor = torch.tensor(times, dtype=torch.float32)\n",
    "\n",
    "dataset = TensorDataset(frames_tensor[:-1], frames_tensor[1:])\n",
    "dataloader = DataLoader(dataset, batch_size=16, shuffle=True)\n",
    "\n",
    "\n",
    "device = torch.device('cuda' if torch.cuda.is_available() else 'cpu')\n",
    "\n",
    "\n",
    "class FP_PINN(nn.Module):\n",
    "    def __init__(self):\n",
    "        super(FP_PINN, self).__init__()\n",
    "        self.conv1 = nn.Conv2d(1, 16, kernel_size=3, padding=1)\n",
    "        self.conv2 = nn.Conv2d(16, 16, kernel_size=3, padding=1)\n",
    "        self.conv3 = nn.Conv2d(16, 1, kernel_size=3, padding=1)\n",
    "        self.relu = nn.ReLU()\n",
    "\n",
    "    def forward(self, x):\n",
    "        x = self.relu(self.conv1(x))\n",
    "        x = self.relu(self.conv2(x))\n",
    "        x = self.conv3(x)\n",
    "        return x\n",
    "\n",
    "\n",
    "model = FP_PINN().to(device)\n",
    "criterion = nn.MSELoss()\n",
    "optimizer = torch.optim.Adam(model.parameters(), lr=1e-3)\n",
    "\n",
    "num_epochs = 25\n",
    "losses = []\n",
    "predictions = []\n",
    "for epoch in tqdm(range(num_epochs)):\n",
    "    epoch_loss = 0\n",
    "    for u_t, u_t1 in dataloader:\n",
    "        u_t, u_t1 = u_t.unsqueeze(1).to(device), u_t1.unsqueeze(1).to(device)\n",
    "        optimizer.zero_grad()\n",
    "        u_pred = model(u_t)\n",
    "        predictions.append(u_pred)\n",
    "        loss = criterion(u_pred, u_t1)\n",
    "        loss.backward()\n",
    "        optimizer.step()\n",
    "        epoch_loss += loss.item()\n",
    "    losses.append(epoch_loss / len(dataloader))\n"
   ]
  },
  {
   "cell_type": "code",
   "execution_count": null,
   "metadata": {},
   "outputs": [],
   "source": [
    "np.save(\"-pinns_canh_hilliard.npy\", frames)"
   ]
  },
  {
   "cell_type": "code",
   "execution_count": null,
   "metadata": {},
   "outputs": [],
   "source": [
    "plt.plot(losses)\n",
    "plt.title(\"Courbe de perte\")\n",
    "plt.xlabel(\"Epochs\")\n",
    "plt.ylabel(\"Loss\")\n",
    "plt.show()"
   ]
  },
  {
   "cell_type": "code",
   "execution_count": 20,
   "metadata": {},
   "outputs": [
    {
     "data": {
      "image/png": "[encoded data removed]",
      "text/plain": [
       "<Figure size 640x480 with 1 Axes>"
      ]
     },
     "metadata": {},
     "output_type": "display_data"
    }
   ],
   "source": [
    "plt.semilogy(losses)\n",
    "plt.title(\"Courbe de perte\")\n",
    "plt.xlabel(\"Epochs\")\n",
    "plt.ylabel(\"Loss\")\n",
    "plt.show()"
   ]
  },
  {
   "cell_type": "code",
   "execution_count": null,
   "metadata": {},
   "outputs": [],
   "source": [
    "fig, ax = plt.subplots()\n",
    "frames[0] = initial_condition(Nx, Ny)\n",
    "im = ax.imshow(initial_condition(Nx, Ny), cmap=cmap, extent=(-0.5, 0.5, 0, 1), vmin=-1, vmax=1)\n",
    "plt.colorbar(im)\n",
    "\n",
    "time_text = ax.text(0.02, 0.95, '', transform=ax.transAxes, color=\"white\")\n",
    "\n",
    "\n",
    "def animate(i):\n",
    "    with torch.no_grad():\n",
    "        u_pred = model(frames_tensor[i].unsqueeze(0).unsqueeze(0).to(device))\n",
    "    im.set_array(u_pred.squeeze().cpu().numpy())\n",
    "    time_text.set_text(f'Temps: {times[i]/100:.3f} s')\n",
    "    return [im, time_text]\n",
    "\n",
    "\n",
    "anim = FuncAnimation(fig, animate, frames=len(frames), interval=50, blit=True)\n",
    "plt.close()\n",
    "HTML(anim.to_jshtml())"
   ]
  },
  {
   "cell_type": "code",
   "execution_count": null,
   "metadata": {},
   "outputs": [],
   "source": [
    "# plt.imshow(predictions[0].squeeze(0).detach().numpy(), cmap=cmap, extent=(-0.5, 0.5, 0, 1), vmin=-1, vmax=1)"
   ]
  },
  {
   "cell_type": "code",
   "execution_count": null,
   "metadata": {},
   "outputs": [],
   "source": []
  }
 ],
 "metadata": {
  "kernelspec": {
   "display_name": "base",
   "language": "python",
   "name": "python3"
  },
  "language_info": {
   "codemirror_mode": {
    "name": "ipython",
    "version": 3
   },
   "file_extension": ".py",
   "mimetype": "text/x-python",
   "name": "python",
   "nbconvert_exporter": "python",
   "pygments_lexer": "ipython3",
   "version": "3.12.2"
  }
 },
 "nbformat": 4,
 "nbformat_minor": 2
}
